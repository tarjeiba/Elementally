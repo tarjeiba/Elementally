{
 "metadata": {
  "name": ""
 },
 "nbformat": 3,
 "nbformat_minor": 0,
 "worksheets": [
  {
   "cells": [
    {
     "cell_type": "markdown",
     "metadata": {},
     "source": [
      "## Gaussian quadrature in 1D\n",
      "\n",
      "We are interested in approximating an  integral by\n",
      "$$ \\int_{-1}^{1}f(x)dx \\approx \\sum_{k=0}^{n} w_k f(x_k),$$\n",
      "where for now both $\\{w_k\\}$ and $\\{x_k\\}$ are to be determined. That means we have $2(n+1)$ degrees of freedom, and it would seem plausible that the integral approximation can be exact for polynomials up to order $2n+1$.\n",
      "\n",
      "\n"
     ]
    },
    {
     "cell_type": "markdown",
     "metadata": {},
     "source": [
      "##Determining nodes:\n",
      "By following the above heuristic we start off by considering a $p_{2n+1} \\in \\mathbb{P}_{2n+1}$. As long as all nodes $x_k$ are distinct we can use Hermite interpolation to write\n",
      "$$ p_{2n+1}(x) = \\sum_{k=0}^{n}\\left(K_k(x)p_{2n+1}(x_k) + V_k(x)p'_{2n+1}(x_k)\\right).$$\n",
      "Here\n",
      "$$ \\begin{cases}\n",
      "K_k(x) = l_k^2(x)\\left[ 1 - 2l'_k(x_k)(x-x_k)\\right] \\\\\n",
      "V_k(x) = l_k^2(x)(x-x_k)\n",
      "\\end{cases},$$ where $l_k(x)$ are the Lagrangian interpolation polynomials, with representation\n",
      "$$ l_k(x) = \\prod_{\\underset{i \\neq k}{i=0} }^{n} \\frac{x-x_i}{x_k-x_i}. $$\n",
      "\n",
      " \n",
      "With this representation of $p_{2n+1}$ we have\n",
      "$$\\int_{-1}^{1}p_{2n+1}(x)dx = \\sum_{k=0}^n p_{2n+1}(x_k)\\left( \\int_a^b K_k(x)dx \\right) + \\sum_{k=0}^n p'_{2n+1}(x_k)\\left(\\int_a^bV_k(x)dx\\right).$$ To avoid having to evaulate the derivative of $p_{n+1}$, we tshould pick the nodes so that $\\int V_k(x)dx=0$.\n",
      "See now that\n",
      "$$ \\int_{-1}^1 V_k(x)dx = \\int_{-1}^1 l_k^2(x)(x-x_k)dx = C \\int_{-1}^1 l_k(x)\\prod_{k=0}^n(x-x_k)dx$$\n",
      "is the inner product between polynomials of order $n$ and $n+1$ respectively. That means that if $\\{x_k\\}$ are the nodes of the [Legendre polynomial](http://en.wikipedia.org/wiki/Legendre_polynomials) of order $n+1$, which is orthogonal to all polynomials of lesser order, we will get our desired result."
     ]
    },
    {
     "cell_type": "markdown",
     "metadata": {},
     "source": [
      "##Determining the weights:\n",
      "Looking back at the previous equations we see that\n",
      "$$w_k = \\int_{-1}^{1}K_k(x)dx \\\\\n",
      "    = \\int_{-1}^1 l_k^2(x) \\left( 1 - 2l'_k(x_k)(x-x_k)\\right)dx \\\\\n",
      "    = \\int_{-1}^1 l_k^2(x)dx - 2l'_k(x_k)\\int_{-1}^1V_k(x)dx \\\\\n",
      "    = \\int_{-1}^1 l_k^2(x)dx,$$\n",
      "where, again,\n",
      "$$l_k(x) = \\prod_{ \\underset{i \\neq k}{i = 0}\u00a0}^{n} \\frac{x-x_i}{x_k - x_i}.$$\n",
      "Denoting the Legendre polynomial of order $n+1$ by $P_{n+1}$ we have\n",
      "$$P_{n+1}(x) = A_{n+1} \\prod_{i=0}^n (x-x_i)$$\n",
      "with the Gauss quadrature nodes we established in the previous section. The derivative is\n",
      "$$ P'_{n+1}(x) = \\sum_{m=0}^n \\prod_{ \\underset{i \\neq m}{i = 0}}^n (x-x_i),$$\n",
      "so evaluated in $x_k$ we have\n",
      "$$ P'_{n+1}(x_k) = \\prod _{ \\underset{i \\neq k}{i = 0} }^n (x_k - x_i),$$\n",
      "which gives us the useful relation that\n",
      "$$ l_k(x) = \\frac{P_{n+1}(x)}{P'_{n+1}(x_k)(x-x_k)}.$$ \n",
      "In the following calculation the only properties of the Legendre polynomials we'll take advantage of are that $P_{n+1}(\\pm 1) = (\\pm 1)^{n+1}$ and the orthogonality. So let's get to it!\n",
      "$$ w_k = \\frac{1}{[P'_{n+1}(x_k)]^2}\\int_{-1}^1 \\frac{P_{n+1}^2(x)}{(x-x_k)^2}dx \\\\\n",
      "    = \\frac{1}{[P'_{n+1}(x_k)]^2} \\left[ -\\frac{P_{n+1}^2(x)}{(x-x_k)}\\Biggm\\lvert_{-1}^1 + 2\\int_{-1}^1 \\frac{P'_{n+1}(x)P_{n+1}(x)}{(x-x_k)}dx \\right] \\\\\n",
      "    = \\frac{1}{[P'_{n+1}(x_k)]^2} \\left[-\\left(\\frac{1}{(1-x_k)} - \\frac{1}{(-1-x_k)}\\right) + 2A_{n+1}\\sum_{m=0}^n \\int_{-1}^1 \\frac{P_{n+1}(x)}{(x-x_k)} \\prod_{ \\underset{i \\neq m}{i=0}}^n(x-x_i)dx \\right].\n",
      "$$\n",
      "See now that for all $m \\neq k$ the last integral part is the inner product between $P_{n+1}$ and a polynomial of order $n-1$, and by orthogonality is zero. Therefore, we get\n",
      "$$ w_k = \\frac{1}{[P'_{n+1}(x_k)]^2}\\left[ \\frac{-2}{(1-x_k^2)} + A_{n+1}\\int_{-1}^1 \\frac{P_{n+1}(x)}{(x-x_k)^2}\\prod_{i=0}^n (x-x_i)dx \\right] \\\\\n",
      "    =\\frac{1}{[P'_{n+1}(x_k)]^2}\\left[ \\frac{-2}{(1-x_k^2)} + 2\\int_{-1}^1 \\frac{P_{n+1}^2(x)}{(x-x_k)^2}dx \\right] \\\\\n",
      "    =\\frac{1}{[P'_{n+1}(x_k)]^2}\\left[ \\frac{-2}{(1-x_k^2)} + 2[P'_{n+1}(x_k)]^2 \\int_{-1}^1 l_k^2(x)dx \\right] \\\\\n",
      "    =\\frac{1}{[P'_{n+1}(x_k)]^2}\\left[ \\frac{-2}{(1-x_k^2)} + 2[P'_{n+1}(x_k)]^2 w_k \\right].$$\n",
      "    \n",
      "Solving for $w_k$, we finally arrive at the pretty neat formula\n",
      "$$ w_k = \\frac{2}{(1-x_k^2)[P'_{n+1}(x_k)]^2}$$"
     ]
    },
    {
     "cell_type": "markdown",
     "metadata": {},
     "source": [
      "##Summary:\n",
      "For an integral over $(-1,1)$ we have the approximation\n",
      "$$\\begin{cases}\n",
      "    \\int_{-1}^1 f(x)dx \\approx \\sum_{k=0}^n w_k f(x_k), \\\\\n",
      "    \\text{where }x_k \\text{ are the zeroes of } P_{n+1} \\\\\n",
      "    w_k = \\frac{2}{(1-x_k^2)[P'_{n+1}(x_k)]^2},\n",
      "\\end{cases}$$\n",
      "which is exact when $f$ is a polynomial of order up to $2n+1$.\n",
      "\n",
      "For a general interval $(a,b)$ the approximation is\n",
      "$$ \\int_a^b f(x)dx = \\frac{b-a}{2}\\sum_{k=0}^n w_k f\\left( \\frac{b-a}{2}\\xi_k + \\frac{b+a}{2}\\right), $$\n",
      "where $\\xi_k$ are the Gaussian quadrature nodes on the reference interval $(-1,1)$."
     ]
    },
    {
     "cell_type": "code",
     "collapsed": false,
     "input": [],
     "language": "python",
     "metadata": {},
     "outputs": []
    }
   ],
   "metadata": {}
  }
 ]
}