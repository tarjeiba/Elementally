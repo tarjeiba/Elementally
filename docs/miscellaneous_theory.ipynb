{
 "metadata": {
  "name": "",
  "signature": "sha256:6190db9b91de2350e56f7195baabf7b06f0845a83bcb92affea1b1ab0a1611ed"
 },
 "nbformat": 3,
 "nbformat_minor": 0,
 "worksheets": [
  {
   "cells": [
    {
     "cell_type": "markdown",
     "metadata": {},
     "source": [
      "# Miscellaneous Theory\n",
      "\n",
      "As of 18 August 2014 this page is just a place-filler for things -- hopefully -- to come.\n",
      "\n",
      "## General\n",
      "\n",
      "This brief theory section constitutes mainly of [Numerical Models for\n",
      "Differential Problems](http://www.amazon.co.uk/Numerical-Models-Differential-\n",
      "Problems-MS-ebook/dp/B00JY5G3T4/ref=sr_1_2?ie=UTF8&qid=1407928272&sr=8-2&\n",
      "keywords=quarteroni \"Amazon.co.uk\"). Page references are made where applicable."
     ]
    },
    {
     "cell_type": "markdown",
     "metadata": {},
     "source": [
      "## Weak formulation\n",
      "\n",
      "*The following is from [Wikipedia](http://en.wikipedia.org/wiki/Weak_formulatio) and is basically written down for Tarjei to get a better grasp of the concepts.*\n",
      "\n",
      "**Weak formulations** are an important tool for the analysis of mathematical equations that permit the transfer of concepts of linear algebra to solve problmes in other fields such as partial differential equations. In a weak formulation, an equation is no longer required to hold absolutely (and this is not even well defined) and has instead weak solutions only with respect to certain \"test vectors\" or \"test functions\". This is equivalent to formulating the problem to require a solution in the sense of a distribution.\n",
      "\n",
      "### Genereal concept\n",
      "Let $V$\u00a0be a Banach space. We want to find the solution $u \\in V$ of the equation\n",
      "$$ Au = f,$$\n",
      "where $A: V \\mapsto V'$ and $f \\in V'$, with $V'$ being the dual of $V$.\n",
      "Calculus of variations tells us that this is equivalent to finding $u \\in V$ such that for all $v \\in V$ the following holds:\n",
      "$$ [Au](v) = f(v)$$.\n",
      "Here, we call $v$\u00a0a test vector or test function.\n",
      "\n",
      "We bring this into the genereic form of a weak formulation, namely, find $u \\in V$ such that\n",
      "$$a(u,v) = f(v) \\; \\forall v \\in V,$$\n",
      "by defining the bilinear form\n",
      "$$a(u,v)  := [Au](v).$$\n",
      "\n",
      "### In a finite volume method\n",
      "According to [this](http://ww.cmi.univ-mrs.fr/~herbin/PUBLI/bookevol.pdf), the finite volume method is sometimes referred to as a\n",
      "> \"discontinuous finite element method\" since the original equation is multiplied by the characteristic funcion of each grid cell which is defined by $1_K (x) = 1$, if $x \\in K$, $1_K (x) = 0$, if $x \\notin K$, and the discrete unkown may be considered as a linear combination of shape functions.\n",
      "\n",
      "On a similat note, we may consider the FVM a \"zero-th order finite element method\"."
     ]
    },
    {
     "cell_type": "markdown",
     "metadata": {},
     "source": [
      "# Elements of Functional Analysis\n",
      "\n",
      "**Definition** - Functional\n",
      "> Given a functin space $V$, we call *functional* on $V$ an operator associating a real number to each element of $V$.\n",
      "$$F: V \\mapsto \\mathbb{R}$$\n",
      "or $F(v) = \\langle F,v \\rangle$."
     ]
    },
    {
     "cell_type": "code",
     "collapsed": false,
     "input": [],
     "language": "python",
     "metadata": {},
     "outputs": []
    }
   ],
   "metadata": {}
  }
 ]
}