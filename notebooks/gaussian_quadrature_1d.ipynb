{
 "metadata": {
  "name": ""
 },
 "nbformat": 3,
 "nbformat_minor": 0,
 "worksheets": [
  {
   "cells": [
    {
     "cell_type": "markdown",
     "metadata": {},
     "source": [
      "## Gaussian quadrature in 1D\n",
      "\n",
      "We are interested in approximating an  integral by\n",
      "$$ \\int_{a}^{b}f(x)dx \\approx \\sum_{k=0}^{n} w_k f(x_k)$$,\n",
      "where for now both $\\{w_k\\}$ and $\\{x_k\\}$ are to be determined. That means we have $2(n+1)$ degrees of freedom, and it would seem plausible that the integral approximation can be exact for polynomials up to order $2n+1$.\n",
      "\n",
      "\n"
     ]
    },
    {
     "cell_type": "markdown",
     "metadata": {},
     "source": [
      "##Determining nodes:\n",
      "By following the above heuristic we start off by considering a $p_{2n+1} \\in \\mathbb{P}_{2n+1}$. As long as all nodes $x_k$ are distinct we can use Hermite interpolation to write\n",
      "$$ p_{2n+1}(x) = \\sum_{k=0}^{n}\\left(K_k(x)p_{2n+1}(x_k) + V_k(x)p'_{2n+1}(x_k)\\right)$$.\n",
      "Here\n",
      "$$ \\begin{cases}\n",
      "K_k(x) = l_k^2(x)\\left[ 1 - 2l'_k(x_k)(x-x_k)\\right] \\\\\n",
      "V_k(x) = l_k^2(x)(x-x_k)\n",
      "\\end{cases}$$, where $l_k(x)$ are the Lagrangian interpolation polynomials, with representation\n",
      "$$ l_k(x) = \\prod_{\\underset{i \\neq k}{i=0} }^{n} \\frac{x-x_i}{x_k-x_i} $$.\n",
      "\n",
      " \n",
      "With this representation of $p_{2n+1}$ we have\n",
      "$$\\int_{a}^{b}p_{2n+1}(x)dx = \\sum_{k=0}^n p_{2n+1}(x_k)\\left( \\int_a^b K_k(x)dx \\right) + \\sum_{k=0}^n p'_{2n+1}(x_k)\\left(\\int_a^bV_k(x)dx\\right) $$. To avoid having to evaulate the derivative of $p_{n+1}$, we tshould pick the nodes so that $\\int V_k(x)dx=0$."
     ]
    },
    {
     "cell_type": "code",
     "collapsed": false,
     "input": [],
     "language": "python",
     "metadata": {},
     "outputs": []
    }
   ],
   "metadata": {}
  }
 ]
}