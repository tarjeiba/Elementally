{
 "metadata": {
  "name": ""
 },
 "nbformat": 3,
 "nbformat_minor": 0,
 "worksheets": [
  {
   "cells": [
    {
     "cell_type": "markdown",
     "metadata": {},
     "source": [
      "# Miscellaneous Theory\n",
      "\n",
      "As of 18 August 2014 this page is just a place-filler for things -- hopefully -- to come.\n",
      "\n",
      "## General\n",
      "\n",
      "This brief theory section constitutes mainly of [Numerical Models for\n",
      "Differential Problems](http://www.amazon.co.uk/Numerical-Models-Differential-\n",
      "Problems-MS-ebook/dp/B00JY5G3T4/ref=sr_1_2?ie=UTF8&qid=1407928272&sr=8-2&\n",
      "keywords=quarteroni \"Amazon.co.uk\"). Page references are made where applicable."
     ]
    },
    {
     "cell_type": "markdown",
     "metadata": {},
     "source": [
      "# Elements of Functional Analysis\n",
      "\n",
      "**Definition** - Functional\n",
      "> Given a functin space $V$, we call *functional* on $V$ an operator associating a real number to each element of $V$.\n",
      "$$F: V \\mapsto R$$\n",
      "or $F(v) = \\langle F,v \\rangle$."
     ]
    },
    {
     "cell_type": "code",
     "collapsed": false,
     "input": [],
     "language": "python",
     "metadata": {},
     "outputs": []
    }
   ],
   "metadata": {}
  }
 ]
}